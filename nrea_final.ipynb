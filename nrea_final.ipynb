{
 "cells": [
  {
   "cell_type": "markdown",
   "metadata": {},
   "source": [
    "Sejam bem-vindos ao meu projeto de portfólio de negócio da empresa fictícia Northwest Real Estate Agency.\n",
    "\n",
    "1. O Problema do Negócio\n",
    "\n",
    "Nesse projeto de negócio irei analisar um banco de dados real. Este banco de dados público, foi  disponibilizado pelo website de competições de Data Science, o Kaggle.\n",
    "A empresa Northwest Real Estate Agency tem como objetivo realizar a compra e venda de imóveis na cidade de Seattle. Para isso a empresa necessita de uma análise precisa de todas as informações e assim poder obter o lucro desejado na compra e venda de imóveis.\n"
   ]
  },
  {
   "cell_type": "markdown",
   "metadata": {},
   "source": [
    "### Importação de bibliotecas"
   ]
  },
  {
   "cell_type": "code",
   "execution_count": 1,
   "metadata": {
    "ExecuteTime": {
     "end_time": "2022-12-02T21:25:34.924603Z",
     "start_time": "2022-12-02T21:25:32.057234Z"
    }
   },
   "outputs": [],
   "source": [
    "# Bibliotecas importadas\n",
    "import numpy          as np\n",
    "import pandas         as pd\n",
    "import streamlit      as st\n",
    "import seaborn        as sns\n",
    "\n",
    "from IPython.display  import HTML\n",
    "from datetime         import datetime"
   ]
  },
  {
   "cell_type": "markdown",
   "metadata": {},
   "source": [
    "### Funções para otimização"
   ]
  },
  {
   "cell_type": "code",
   "execution_count": null,
   "metadata": {
    "ExecuteTime": {
     "end_time": "2022-12-02T21:25:34.935099Z",
     "start_time": "2022-12-02T21:25:34.925922Z"
    }
   },
   "outputs": [],
   "source": [
    "# Funções para otimização\n",
    "def jupyter_settings():\n",
    "    #%matplotlib inline\n",
    "    #%pylab inline\n",
    "    #plt.style.use( 'bmh' )\n",
    "    #plt.rcParams['figure.figsize'] = [ 6, 12]\n",
    "    #plt.rcParams['font.size'] = 24\n",
    "    display( HTML( '') )\n",
    "    pd.options.display.max_columns = None\n",
    "    pd.options.display.max_rows = 30\n",
    "    pd.set_option('display.float_format', '{:.2f}'.format)\n",
    "    pd.set_option( 'display.expand_frame_repr', False )\n",
    "    sns.set_theme(rc={'figure.figsize': (10, 5)})\n",
    "    \n",
    "jupyter_settings()\n",
    "\n",
    "# Carregamento dos dados\n",
    "def get_data(data):\n",
    "    data = pd.read_csv(path)\n",
    "    return data\n",
    "\n",
    "# Conversão da coluna 'date' para o formato de data padrão\n",
    "def set_date(data):\n",
    "    data['date'] = pd.to_datetime(data['date'], format=('%Y-%m-%d'))\n",
    "    return data\n",
    "\n",
    "# Estatística Descritiva\n",
    "def statistcs(data):\n",
    "    num_attributes = data.select_dtypes(include=['int64', 'float64'])\n",
    "    # Tendencia Central - Media e Median\n",
    "    ct1 = pd.DataFrame(num_attributes.apply(np.mean)).T\n",
    "    ct2 = pd.DataFrame(num_attributes.apply(np.median)).T\n",
    "    # Despersão - Desvio Padrão, Mínimo, Máximo, Range, Skew, Kurtosis\n",
    "    d1 = pd.DataFrame(num_attributes.apply(np.std)).T\n",
    "    d2 = pd.DataFrame(num_attributes.apply(min)).T\n",
    "    d3 = pd.DataFrame(num_attributes.apply(max)).T\n",
    "    d4 = pd.DataFrame(num_attributes.apply(lambda x: x.max() - x.min())).T\n",
    "    d5 = pd.DataFrame(num_attributes.apply(lambda x: x.skew())).T\n",
    "    d6 = pd.DataFrame(num_attributes.apply(lambda x: x.kurtosis())).T\n",
    "\n",
    "    m = pd.concat([d2, d3, d4,ct1, ct2, d1, d5, d6]).T.reset_index()\n",
    "\n",
    "    m.columns = ['attributes', 'min', 'max', 'range', 'mean', 'median', 'std', 'skew', 'kurtosis']\n",
    "    print(m)\n",
    "    return data"
   ]
  },
  {
   "cell_type": "markdown",
   "metadata": {},
   "source": [
    "### Extração e carregamento\n"
   ]
  },
  {
   "cell_type": "code",
   "execution_count": null,
   "metadata": {
    "ExecuteTime": {
     "end_time": "2022-12-02T21:25:34.984887Z",
     "start_time": "2022-12-02T21:25:34.936034Z"
    }
   },
   "outputs": [],
   "source": [
    "# Extração e carregamento da base de dados\n",
    "path = 'csv_files/kc_house_data.csv'\n",
    "data = get_data(path)"
   ]
  },
  {
   "cell_type": "markdown",
   "metadata": {},
   "source": [
    "### Denominação dos conteúdos das colunas\n"
   ]
  },
  {
   "cell_type": "code",
   "execution_count": null,
   "metadata": {
    "ExecuteTime": {
     "end_time": "2022-12-02T21:25:35.006260Z",
     "start_time": "2022-12-02T21:25:34.986278Z"
    }
   },
   "outputs": [],
   "source": [
    "# Conferência do tipo de dado das colunas\n",
    "data.info()"
   ]
  },
  {
   "cell_type": "markdown",
   "metadata": {},
   "source": [
    "Atributos   Definição\n",
    "\n",
    "id  -  Identificação única para cada imóvel\n",
    "\n",
    "date  -  Data da venda do imóvel\n",
    "\n",
    "price  -  Preço que o imóvel foi vendido\n",
    "\n",
    "bedrooms  - Número de quartos\n",
    "\n",
    "bathrooms  - Número de banheiros\n",
    "\n",
    "sqft_living -  Tamanho (em pés quadrado) do espaço interior (área construída)\n",
    "\n",
    "sqft_lot  - Tamanho (em pés quadrado) do terreno onde o imóvel está situado\n",
    "\n",
    "sqft_basement - Tamanho (em pés quadrado) do espaço interior que se encontra abaixo do nível do solo\n",
    "\n",
    "sqft_above  - Tamanho (em pés quadrado) do espaço interior que se encontra acima do nível do solo.\n",
    "\n",
    "floors  -  Número de pisos do imóvel\n",
    "\n",
    "waterfront  - Indica a presença ou não de vista para água\n",
    "\n",
    "view   - Um índice de 0 a 4 de quão boa é a visão do imóvel\n",
    "\n",
    "condition -  Um índice de 1 a 5 que indica a condição do imóvel\n",
    "\n",
    "grade  -  Um índice de 1 a 13 que indica a qualidade da construção e o design do imóvel.\n",
    "\n",
    "yr_built  -  Ano de construção do imóvel\n",
    "\n",
    "yr_renovated -  Ano de reforma do imóvel\n",
    "\n",
    "zipcode  - Código Postal do logradouro do imóvel\n",
    "\n",
    "lat   - Latitude\n",
    "\n",
    "long   - Longitude\n",
    "\n",
    "sqft_livining15 - Tamanho (em pés quadrado) do espaço interno de habitação para os 15 vizinhos mais próximo\n",
    "\n",
    "sqft_lot15 - Tamanho (em pés quadrado) dos terrenos dos 15 vizinhos mais próximo"
   ]
  },
  {
   "cell_type": "markdown",
   "metadata": {},
   "source": [
    "### Análise dos tipos de dados das colunas"
   ]
  },
  {
   "cell_type": "code",
   "execution_count": null,
   "metadata": {
    "ExecuteTime": {
     "end_time": "2022-12-02T21:25:35.049246Z",
     "start_time": "2022-12-02T21:25:35.007304Z"
    }
   },
   "outputs": [],
   "source": [
    "# Checagem dos valores\n",
    "data.describe()"
   ]
  },
  {
   "cell_type": "markdown",
   "metadata": {},
   "source": [
    "### Limpeza e conferência da base de dados"
   ]
  },
  {
   "cell_type": "code",
   "execution_count": null,
   "metadata": {
    "ExecuteTime": {
     "end_time": "2022-12-02T21:25:35.103493Z",
     "start_time": "2022-12-02T21:25:35.050241Z"
    }
   },
   "outputs": [],
   "source": [
    "# Conferência de dados faltantes\n",
    "data.isnull().sum()\n",
    "\n",
    "# Checagem e confirmação de imóveis duplicados\n",
    "data.loc[data['id'].duplicated()]\n",
    "\n",
    "# Confirmação de que o mesmo imóvel foi vendido em 2014-09-16 e no ano seguinte foi vendido novamente, na data de 2015-04-22.\n",
    "data.loc[data['id'] == 1000102]\n",
    "\n",
    "# Separação e comparação dos valores venais da primeira e da segunda venda do mesmo imóvel\n",
    "data_dup = data['id'].duplicated()\n",
    "data_dup1 = data.loc[data_dup, 'id'].tolist()\n",
    "\n",
    "# Exportação da lista de duplicados para uma planilha csv.\n",
    "data.loc[data['id'].isin(data_dup1), :].to_csv(r'export/duplicated.csv')\n",
    "\n",
    "# Checagem do imóvel da base de dados que possui 33 quartos\n",
    "data['bedrooms'].sort_values().unique()\n",
    "\n",
    "# Numa rápida comparação com outros imóveis, selecionei as colunas de preço, quantidade de banheiros e área construída.\n",
    "# Portanto é válido afirmar que os 33 quartos é de fato um erro de digitação.\n",
    "# Sendo assim o valor será acertado para 3, que é a média dos seus respectivos similares.\n",
    "print(data.loc[data['bedrooms'] == 33][['id', 'price', 'bathrooms', 'sqft_living', 'bedrooms']])\n",
    "\n",
    "check1 = data['price'].isin(range(600000, 700000))\n",
    "check2 = data['bathrooms'].isin(range(1, 5))\n",
    "check3 = data['sqft_living'].isin(range(1600, 1700))\n",
    "data.loc[check1 & check2 & check3, ['bedrooms']].mean()\n",
    "\n",
    "# Execução da correção\n",
    "data.loc[data['bedrooms'] == 33, 'bedrooms'] = 3\n",
    "data['bedrooms'].sort_values().unique()\n",
    "\n",
    "# Checagem do imóveis cadastrados com 0 quartos\n",
    "data.loc[data['bedrooms'] == 0][['id', 'price', 'bathrooms', 'sqft_living', 'sqft_lot', 'bedrooms']]\n",
    "data.loc[data['bedrooms'] == 0].nunique()\n",
    "\n",
    "# Premissa, deve-se assumir que estes imóveis estão cadastrados corretamente e não devem ser imóveis do tipo residencial e sim cômodos comerciais.\n",
    "data['bathrooms'].sort_values().unique()\n",
    "data.loc[data['bathrooms'] == 0].sort_values('price')\n",
    "\n",
    "# Premissa, deve-se assumir que estes imóveis estão cadastrados corretamente e não devem ser imóveis do tipo residencial.\n",
    "\n",
    "# Checagem OK, sem valores 'outlier'\n",
    "data['sqft_living'].sort_values().unique()\n",
    "\n",
    "# Checagem OK, sem valores 'outlier'\n",
    "data['sqft_lot'].sort_values().unique()\n",
    "\n",
    "# Checagem OK, sem valores 'outlier'\n",
    "data['sqft_above'].sort_values().unique()\n",
    "\n",
    "# Checagem OK, sem valores 'outlier'\n",
    "data['sqft_basement'].sort_values().unique()\n",
    "\n",
    "# Aqui pode-se aferir que 60% dos imóveis do banco de dados não possuem porão. Daí o valor 0 no tamanho\n",
    "data.loc[data['sqft_basement'] == 0, 'id'].nunique() / data.loc[:, 'id'].nunique()\n",
    "\n",
    "# Checagem OK, sem valores 'outlier'\n",
    "data['yr_built'].sort_values().unique()\n",
    "\n",
    "# Checagem OK, sem valores 'outlier'\n",
    "data['yr_renovated'].sort_values().unique()\n",
    "data['yr_renovated'].value_counts()\n",
    "\n",
    "# A quantidade de imóveis reformados no banco de dados é bem pequena. São 4,3% do total, aproximadamente.\n",
    "20699 / 21613\n",
    "data"
   ]
  },
  {
   "cell_type": "markdown",
   "metadata": {},
   "source": [
    "### Transformações e manipulação dos dados"
   ]
  },
  {
   "cell_type": "code",
   "execution_count": null,
   "metadata": {
    "ExecuteTime": {
     "end_time": "2022-12-02T21:25:35.185189Z",
     "start_time": "2022-12-02T21:25:35.104649Z"
    }
   },
   "outputs": [],
   "source": [
    "# Alteração da coluna 'date' para o formato padrão de data (pandas date time)\n",
    "set_date(data)\n",
    "statistcs(data)"
   ]
  },
  {
   "cell_type": "code",
   "execution_count": null,
   "metadata": {
    "ExecuteTime": {
     "end_time": "2022-12-02T21:25:35.215484Z",
     "start_time": "2022-12-02T21:25:35.186055Z"
    }
   },
   "outputs": [],
   "source": [
    "# Alteração da coluna 'date' para o formato padrão de data (pandas date time)\n",
    "set_date(data)\n",
    "\n",
    "# Criação de novas colunas para realizar a separação da data por ano e mês\n",
    "data['year'] = data['date'].dt.year\n",
    "data['month'] = data['date'].dt.month\n",
    "\n",
    "# Criação da coluna de estação do ano, para efeitos de classificação de preços\n",
    "# Seasons = spring, summer, autumn, and winter\n",
    "data['season'] = data['month'].apply(lambda x: 'summer' if (x > 5) & (x < 8)\n",
    "                                            else 'spring'if (x > 2) & (x < 5)\n",
    "                                            else 'autumn' if (x > 8) & (x < 12)\n",
    "                                            else 'winter')\n",
    "\n",
    "\n",
    "# Conversão das colunas que estão nas medidas pé quadrado (square foot) para a medida em metro quadrado (m²)\n",
    "data['living_m2'] = data['sqft_living'] / 10.764\n",
    "data['lot_m2'] = data['sqft_lot'] / 10.764\n",
    "data['above_m2'] = data['sqft_above'] / 10.764\n",
    "\n",
    "# Criação de uma coluna para identificar a idade do imóvel\n",
    "data['age'] = datetime.now().year - data['yr_built']\n",
    "\n",
    "# Criação de uma coluna para anotar se o imóvel foi reformado ou não\n",
    "data['renovated'] = data['yr_renovated'].apply(lambda x: 'no' if x == 0 else 'yes')\n",
    "\n",
    "# Alteração dos valores da coluna 'waterfront' de '0' para 'No' e de 1 para 'Yes' \n",
    "data['waterfront'].replace({1: 'yes', 0: 'no'}, inplace=True)\n",
    "\n",
    "# Criação da coluna do preço pela área construída por metro quadrado\n",
    "data['price_m2'] = data['price'] / ((data['living_m2']) + (data['lot_m2']) + (data['above_m2']))\n",
    "\n",
    "data.head(10)\n"
   ]
  },
  {
   "cell_type": "markdown",
   "metadata": {},
   "source": [
    "### Análise Exploratória dos Dados"
   ]
  },
  {
   "cell_type": "markdown",
   "metadata": {},
   "source": [
    "#### Checagem e validação de hipóteses"
   ]
  },
  {
   "cell_type": "code",
   "execution_count": null,
   "metadata": {
    "ExecuteTime": {
     "end_time": "2022-12-02T21:25:35.613562Z",
     "start_time": "2022-12-02T21:25:35.216459Z"
    }
   },
   "outputs": [],
   "source": [
    "# H1: Imóveis com nível de condição maior ou igual a 3 são 20% mais caras, na média.\n",
    "# X Falsa:\n",
    "# Os imóveis da categoria 3, 4 e 5 custam 153.22% a mais na média geral\n",
    "plot_1 = data[['condition', 'price']]\n",
    "ax = sns.barplot(data= plot_1, x= 'condition', y= 'price')\n",
    "ax.bar_label(ax.containers[0])\n",
    "ax.set(xlabel= 'Condição', ylabel= 'Preço', title= 'H1');\n",
    "print(data[['condition', 'price']].groupby('condition').mean())\n",
    "(((542012.58 + 521200.39 + 612418.09) - (334431.67 + 327287.15)) / (334431.67 + 327287.15)) * 100"
   ]
  },
  {
   "cell_type": "code",
   "execution_count": null,
   "metadata": {
    "ExecuteTime": {
     "end_time": "2022-12-02T21:25:35.731156Z",
     "start_time": "2022-12-02T21:25:35.615741Z"
    }
   },
   "outputs": [],
   "source": [
    "# H2: Imóveis com até 50 anos que foram reformados são 20% mais caros do que os não reformados, na média?\n",
    "# X Falsa:\n",
    "# Considerando o preço médio, ao invés de 20% mais caros, os imóveis com até 50 de idade reformados são 69.33% mais caros.\n",
    "\n",
    "plot_2 = data.loc[(data['age'] <= 50), ['renovated', 'price', 'yr_renovated']].groupby('renovated').mean()\n",
    "ax = sns.barplot( data= plot_2, x= 'yr_renovated', y= 'price' )\n",
    "ax.bar_label(ax.containers[0])\n",
    "ax.set(xlabel= 'Imóveis', ylabel= 'Preço', title= 'H2',\n",
    "      xticklabels= [\"Não Reformados\", \"Reformados\"]);\n",
    "print(((963860.67 - 569190.11) / 569190.11) * 100)"
   ]
  },
  {
   "cell_type": "code",
   "execution_count": null,
   "metadata": {
    "ExecuteTime": {
     "end_time": "2022-12-02T21:25:35.863094Z",
     "start_time": "2022-12-02T21:25:35.732142Z"
    }
   },
   "outputs": [],
   "source": [
    "# H3: Imóveis que possuem vista para água, são 30% mais caros, na média.\n",
    "# X Falsa:\n",
    "# Considerando o preço médio, ao invés de 30%, os imóveis com vista para a água custam 212.63% a mais na média\n",
    "plot_3 = data[['waterfront', 'price']].groupby('waterfront').mean().reset_index()\n",
    "ax = sns.barplot( data= plot_3, x= 'waterfront', y= 'price' );\n",
    "ax.bar_label(ax.containers[0])\n",
    "ax.set(xlabel= 'De Frente para Água', ylabel= 'Preço', title= 'H3',\n",
    "       xticklabels= [\"Não\", \"Sim\"]);\n",
    "((1661876.02 - 531563.60) / 531563.60) * 100"
   ]
  },
  {
   "cell_type": "code",
   "execution_count": null,
   "metadata": {
    "ExecuteTime": {
     "end_time": "2022-12-02T21:25:35.871524Z",
     "start_time": "2022-12-02T21:25:35.864439Z"
    }
   },
   "outputs": [],
   "source": [
    "# H4: Imóveis com data de construção menor que 1955, são 50% mais baratos, na média.\n",
    "# X Falsa:\n",
    "# Considerando o preço médio, imóveis com data de construção menor que 1955, possuem preços 1,09% mais baratos.\n",
    "print(data.loc[data['yr_built'] < 1955, ['price']].mean())\n",
    "print(data.loc[data['yr_built'] > 1955, ['price']].mean())\n",
    "((542917.16 - 537050.91) / 537050.91) * 100"
   ]
  },
  {
   "cell_type": "code",
   "execution_count": null,
   "metadata": {
    "ExecuteTime": {
     "end_time": "2022-12-02T21:25:36.397934Z",
     "start_time": "2022-12-02T21:25:35.872509Z"
    }
   },
   "outputs": [],
   "source": [
    "# H5: Os imóveis das últimas décadas são mais valiosos?\n",
    "# ✔️ Verdadeira:\n",
    "# A avaliação dos imóveis construídos nas últimas três décadas encontra-se em média cerca de 19% acima da avaliação dos imóveis\n",
    "# construídos entre 1900 e 1959, enquanto que há um crescimento médio de 4,7% por década entre as décadas de 1940 e 1990.\n",
    "df1 = data.copy()\n",
    "df1['decade'] = df1['yr_built'].apply( lambda x: int((x / 10))  * 10)\n",
    "df1[['decade', 'grade']].groupby('decade').mean().reset_index()\n",
    "ax = sns.barplot( data= df1, x= 'decade', y= 'grade')\n",
    "ax.bar_label(ax.containers[0])\n",
    "ax.set(xlabel= 'Década', ylabel= 'Grade', title= 'H5');"
   ]
  },
  {
   "cell_type": "code",
   "execution_count": null,
   "metadata": {
    "ExecuteTime": {
     "end_time": "2022-12-02T21:25:36.547571Z",
     "start_time": "2022-12-02T21:25:36.399090Z"
    }
   },
   "outputs": [],
   "source": [
    "# # H6: O valor mediano do imóveis variam 20% de acordo com a estação do ano?\n",
    "# X Falsa:\n",
    "# Considerando a maior variação no preço mediano, o maio percentual de aumento encontrado foi do inverno para a primavera, onde a mediana foi 8.13% maior.\n",
    "plot_6 = data[['season', 'price']].groupby('season').median().reset_index()\n",
    "ax = sns.barplot(data=plot_6, x='season', y='price')\n",
    "ax.bar_label(ax.containers[0])\n",
    "ax.set(xlabel= 'Estação do Ano', ylabel= 'Preço', title= 'H6',\n",
    "       xticklabels= [\"Outono\", \"Primavera\", \"Verão\", \"Inverno\"])\n",
    "((465000 - 430000) / 430000) * 100"
   ]
  },
  {
   "cell_type": "markdown",
   "metadata": {},
   "source": [
    "### Recomendações de compra"
   ]
  },
  {
   "cell_type": "markdown",
   "metadata": {},
   "source": [
    "Para responder as questões de negócio, utilizou-se pensamento analítico e análise de dados.\n",
    "Quais são os imóveis que a Northwest Real Estate Agency deveria comprar e por qual preço ?\n",
    "\n",
    "\n",
    "Os imóveis foram agrupados por região ( zipcode ) e dentro de cada região, encontrei a mediana dos preços por área construída.\n",
    "Irei sugerir a compra dos imóveis que possuem preço abaixo da mediana da região, estejam em boas condições de conservação maior ou igual a 3, que tenham um ou mais banheiros e quartos e, também, devem ter uma grade de classificação maior ou igual a 7.\n",
    "Todos os imóveis que estão dentro destes filtros de compra serão separados em uma lista.\n",
    "Dentro desta lista separei os dois imóveis prioritários para aquisição, já que os mesmos possuem 'Vista para a Água'.\n"
   ]
  },
  {
   "cell_type": "code",
   "execution_count": null,
   "metadata": {
    "ExecuteTime": {
     "end_time": "2022-12-02T21:34:49.313136Z",
     "start_time": "2022-12-02T21:34:45.554329Z"
    },
    "scrolled": true
   },
   "outputs": [],
   "source": [
    "df1 = data.copy()\n",
    "median_price = df1[['zipcode', 'price']].groupby('zipcode').median().reset_index()\n",
    "df2 = pd.merge(median_price, df1, on= 'zipcode', how= 'inner')\n",
    "df2 = df2.rename(columns= {'price_y' : 'price', 'price_x' : 'median_price'})\n",
    "\n",
    "\n",
    "for x in range(len(df2)):\n",
    "    if ((df2.loc[x, 'price'] < df2.loc[x, 'median_price']) & (df2.loc[x, 'condition'] >= 3)\n",
    "        & (df2.loc[x, 'bedrooms'] >= 1) & (df2.loc[x, 'bathrooms'] >= 1)\n",
    "        & (df2.loc[x, 'grade'] >= 7)):\n",
    "        df2.loc[x, 'purchase'] = 'recommended'\n",
    "\n",
    "    else:\n",
    "        df2.loc[x, 'purchase'] = 'rejected'\n",
    "\n",
    "\n",
    "buy_list = df2.loc[df2['purchase'] == 'recommended']\n",
    "buy_list_prior = buy_list.loc[buy_list['waterfront'] == 'yes']\n",
    "print(buy_list_prior[['id','median_price', 'price', 'purchase']])\n",
    "buy_list[['id', 'purchase', 'waterfront', 'condition', 'grade', 'price']].sort_values('price')\n",
    "df2 = buy_list\n",
    "df2"
   ]
  },
  {
   "cell_type": "markdown",
   "metadata": {},
   "source": [
    "### Recomendações de venda"
   ]
  },
  {
   "cell_type": "code",
   "execution_count": null,
   "metadata": {},
   "outputs": [],
   "source": [
    "df3 = data.copy()\n",
    "df3 = df2[df2['purchase'] == 'recommended']\n",
    "df4 = df3[['season', 'zipcode', 'price']].groupby(['zipcode', 'season']).median().reset_index()\n",
    "df5 = df4.rename(columns= {'price' : 'price_med_season', 'season' : 'season_med'})\n",
    "df6 = pd.merge(df4, df5, on= 'zipcode', how= 'inner')\n",
    "\n",
    "for x, row in df6.iterrows():\n",
    "    if (row['price_med_season'] > row['price']):\n",
    "        df6.loc[x, 'sale'] = row['price'] * 1.05\n",
    "\n",
    "    else:\n",
    "        df6.loc[x, 'sale'] = row['price'] * 1.15\n",
    "\n",
    "\n",
    "ax = sns.barplot(data= df6, x= 'season', y= 'sale')\n",
    "ax.bar_label(ax.containers[0])\n",
    "ax.set(xlabel= 'Estação do Ano', ylabel= 'Preço', title= 'Melhor estação do ano para vender os imóveis',\n",
    "       xticklabels= [\"Outono\", \"Primavera\", \"Verão\", \"Inverno\"]);"
   ]
  },
  {
   "cell_type": "markdown",
   "metadata": {},
   "source": [
    "### Resultado do Negócio após a venda"
   ]
  },
  {
   "cell_type": "code",
   "execution_count": null,
   "metadata": {
    "tags": []
   },
   "outputs": [],
   "source": [
    "df6['profit'] = df6['sale'] - df6['price']\n",
    "print(df6['profit'].sum())\n",
    "df6"
   ]
  },
  {
   "cell_type": "markdown",
   "metadata": {},
   "source": [
    "### Projeção total de lucros de até $52.597.123,00 levando em consideração os melhores cenários de compra e venda, acima expostos."
   ]
  }
 ],
 "metadata": {
  "hide_input": false,
  "kernelspec": {
   "display_name": "ide_base",
   "language": "python",
   "name": "python3"
  },
  "language_info": {
   "codemirror_mode": {
    "name": "ipython",
    "version": 3
   },
   "file_extension": ".py",
   "mimetype": "text/x-python",
   "name": "python",
   "nbconvert_exporter": "python",
   "pygments_lexer": "ipython3",
   "version": "3.10.8"
  },
  "varInspector": {
   "cols": {
    "lenName": 16,
    "lenType": 16,
    "lenVar": 40
   },
   "kernels_config": {
    "python": {
     "delete_cmd_postfix": "",
     "delete_cmd_prefix": "del ",
     "library": "var_list.py",
     "varRefreshCmd": "print(var_dic_list())"
    },
    "r": {
     "delete_cmd_postfix": ") ",
     "delete_cmd_prefix": "rm(",
     "library": "var_list.r",
     "varRefreshCmd": "cat(var_dic_list()) "
    }
   },
   "types_to_exclude": [
    "module",
    "function",
    "builtin_function_or_method",
    "instance",
    "_Feature"
   ],
   "window_display": false
  },
  "vscode": {
   "interpreter": {
    "hash": "a399c2ac7b5b17bf514634d9aba7b4639a4982b0f452986d5f89cbb8104322d7"
   }
  }
 },
 "nbformat": 4,
 "nbformat_minor": 2
}
